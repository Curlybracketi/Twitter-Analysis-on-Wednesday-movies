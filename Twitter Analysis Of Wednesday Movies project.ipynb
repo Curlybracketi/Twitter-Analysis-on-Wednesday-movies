{
 "cells": [
  {
   "cell_type": "code",
   "execution_count": 411,
   "metadata": {},
   "outputs": [
    {
     "data": {
      "text/html": [
       "<div>\n",
       "<style scoped>\n",
       "    .dataframe tbody tr th:only-of-type {\n",
       "        vertical-align: middle;\n",
       "    }\n",
       "\n",
       "    .dataframe tbody tr th {\n",
       "        vertical-align: top;\n",
       "    }\n",
       "\n",
       "    .dataframe thead th {\n",
       "        text-align: right;\n",
       "    }\n",
       "</style>\n",
       "<table border=\"1\" class=\"dataframe\">\n",
       "  <thead>\n",
       "    <tr style=\"text-align: right;\">\n",
       "      <th></th>\n",
       "      <th>Date Created</th>\n",
       "      <th>Number of Likes</th>\n",
       "      <th>Source of Tweet</th>\n",
       "      <th>Tweet</th>\n",
       "    </tr>\n",
       "  </thead>\n",
       "  <tbody>\n",
       "    <tr>\n",
       "      <th>0</th>\n",
       "      <td>2023-02-27 03:01:37+00:00</td>\n",
       "      <td>41226</td>\n",
       "      <td>Twitter for iPhone</td>\n",
       "      <td>is there any other way to be? https://t.co/P0n...</td>\n",
       "    </tr>\n",
       "    <tr>\n",
       "      <th>1</th>\n",
       "      <td>2023-01-06 23:48:42+00:00</td>\n",
       "      <td>19243</td>\n",
       "      <td>Twitter Web App</td>\n",
       "      <td>I prefer screams of agony. https://t.co/UDwZsk...</td>\n",
       "    </tr>\n",
       "    <tr>\n",
       "      <th>2</th>\n",
       "      <td>2023-01-06 17:00:31+00:00</td>\n",
       "      <td>133634</td>\n",
       "      <td>Twitter Media Studio</td>\n",
       "      <td>More torture is coming. Lucky you. https://t.c...</td>\n",
       "    </tr>\n",
       "    <tr>\n",
       "      <th>3</th>\n",
       "      <td>2023-01-06 03:53:50+00:00</td>\n",
       "      <td>123</td>\n",
       "      <td>Twitter for iPhone</td>\n",
       "      <td>@SMediaProd01 @netflix Indeed</td>\n",
       "    </tr>\n",
       "    <tr>\n",
       "      <th>4</th>\n",
       "      <td>2023-01-03 19:45:48+00:00</td>\n",
       "      <td>16836</td>\n",
       "      <td>Twitter Web App</td>\n",
       "      <td>Your daughters are correct. As the saying goes...</td>\n",
       "    </tr>\n",
       "  </tbody>\n",
       "</table>\n",
       "</div>"
      ],
      "text/plain": [
       "                Date Created  Number of Likes       Source of Tweet  \\\n",
       "0  2023-02-27 03:01:37+00:00            41226    Twitter for iPhone   \n",
       "1  2023-01-06 23:48:42+00:00            19243       Twitter Web App   \n",
       "2  2023-01-06 17:00:31+00:00           133634  Twitter Media Studio   \n",
       "3  2023-01-06 03:53:50+00:00              123    Twitter for iPhone   \n",
       "4  2023-01-03 19:45:48+00:00            16836       Twitter Web App   \n",
       "\n",
       "                                               Tweet  \n",
       "0  is there any other way to be? https://t.co/P0n...  \n",
       "1  I prefer screams of agony. https://t.co/UDwZsk...  \n",
       "2  More torture is coming. Lucky you. https://t.c...  \n",
       "3                      @SMediaProd01 @netflix Indeed  \n",
       "4  Your daughters are correct. As the saying goes...  "
      ]
     },
     "execution_count": 411,
     "metadata": {},
     "output_type": "execute_result"
    }
   ],
   "source": [
    "import pandas as pd\n",
    "import numpy as np\n",
    "import time\n",
    "import re\n",
    "\n",
    "tweets_df = pd.read_csv(r'C:\\Users\\CHISA\\Downloads\\twitter_data.csv')\n",
    "tweets_df.head()"
   ]
  },
  {
   "cell_type": "code",
   "execution_count": 412,
   "metadata": {},
   "outputs": [
    {
     "name": "stdout",
     "output_type": "stream",
     "text": [
      "Date Created- 0.0%\n",
      "Number of Likes- 0.0%\n",
      "Source of Tweet- 0.0%\n",
      "Tweet- 0.0%\n"
     ]
    }
   ],
   "source": [
    "for col in tweets_df.columns:\n",
    "    pct_missing = np.mean(tweets_df[col].isnull())\n",
    "    print('{}- {}%'.format(col, pct_missing))"
   ]
  },
  {
   "cell_type": "code",
   "execution_count": 413,
   "metadata": {},
   "outputs": [
    {
     "data": {
      "text/plain": [
       "Date Created       object\n",
       "Number of Likes     int64\n",
       "Source of Tweet    object\n",
       "Tweet              object\n",
       "dtype: object"
      ]
     },
     "execution_count": 413,
     "metadata": {},
     "output_type": "execute_result"
    }
   ],
   "source": [
    "# checking the data type of every columns\n",
    "tweets_df.dtypes"
   ]
  },
  {
   "cell_type": "code",
   "execution_count": 414,
   "metadata": {},
   "outputs": [
    {
     "data": {
      "text/plain": [
       "Date Created       90\n",
       "Number of Likes    90\n",
       "Source of Tweet    90\n",
       "Tweet              90\n",
       "dtype: int64"
      ]
     },
     "execution_count": 414,
     "metadata": {},
     "output_type": "execute_result"
    }
   ],
   "source": [
    "tweets_df.count()"
   ]
  },
  {
   "cell_type": "code",
   "execution_count": 415,
   "metadata": {},
   "outputs": [
    {
     "data": {
      "text/html": [
       "<div>\n",
       "<style scoped>\n",
       "    .dataframe tbody tr th:only-of-type {\n",
       "        vertical-align: middle;\n",
       "    }\n",
       "\n",
       "    .dataframe tbody tr th {\n",
       "        vertical-align: top;\n",
       "    }\n",
       "\n",
       "    .dataframe thead th {\n",
       "        text-align: right;\n",
       "    }\n",
       "</style>\n",
       "<table border=\"1\" class=\"dataframe\">\n",
       "  <thead>\n",
       "    <tr style=\"text-align: right;\">\n",
       "      <th></th>\n",
       "      <th>Date Created</th>\n",
       "      <th>Number of Likes</th>\n",
       "      <th>Source of Tweet</th>\n",
       "      <th>Tweet</th>\n",
       "    </tr>\n",
       "  </thead>\n",
       "  <tbody>\n",
       "    <tr>\n",
       "      <th>0</th>\n",
       "      <td>2023-02-27 03:01:37+00:00</td>\n",
       "      <td>41226</td>\n",
       "      <td>Twitter for iPhone</td>\n",
       "      <td>is there any other way to be? https://t.co/P0n...</td>\n",
       "    </tr>\n",
       "    <tr>\n",
       "      <th>1</th>\n",
       "      <td>2023-01-06 23:48:42+00:00</td>\n",
       "      <td>19243</td>\n",
       "      <td>Twitter Web App</td>\n",
       "      <td>I prefer screams of agony. https://t.co/UDwZsk...</td>\n",
       "    </tr>\n",
       "    <tr>\n",
       "      <th>2</th>\n",
       "      <td>2023-01-06 17:00:31+00:00</td>\n",
       "      <td>133634</td>\n",
       "      <td>Twitter Media Studio</td>\n",
       "      <td>More torture is coming. Lucky you. https://t.c...</td>\n",
       "    </tr>\n",
       "    <tr>\n",
       "      <th>3</th>\n",
       "      <td>2023-01-06 03:53:50+00:00</td>\n",
       "      <td>123</td>\n",
       "      <td>Twitter for iPhone</td>\n",
       "      <td>@SMediaProd01 @netflix Indeed</td>\n",
       "    </tr>\n",
       "    <tr>\n",
       "      <th>4</th>\n",
       "      <td>2023-01-03 19:45:48+00:00</td>\n",
       "      <td>16836</td>\n",
       "      <td>Twitter Web App</td>\n",
       "      <td>Your daughters are correct. As the saying goes...</td>\n",
       "    </tr>\n",
       "  </tbody>\n",
       "</table>\n",
       "</div>"
      ],
      "text/plain": [
       "                Date Created  Number of Likes       Source of Tweet  \\\n",
       "0  2023-02-27 03:01:37+00:00            41226    Twitter for iPhone   \n",
       "1  2023-01-06 23:48:42+00:00            19243       Twitter Web App   \n",
       "2  2023-01-06 17:00:31+00:00           133634  Twitter Media Studio   \n",
       "3  2023-01-06 03:53:50+00:00              123    Twitter for iPhone   \n",
       "4  2023-01-03 19:45:48+00:00            16836       Twitter Web App   \n",
       "\n",
       "                                               Tweet  \n",
       "0  is there any other way to be? https://t.co/P0n...  \n",
       "1  I prefer screams of agony. https://t.co/UDwZsk...  \n",
       "2  More torture is coming. Lucky you. https://t.c...  \n",
       "3                      @SMediaProd01 @netflix Indeed  \n",
       "4  Your daughters are correct. As the saying goes...  "
      ]
     },
     "execution_count": 415,
     "metadata": {},
     "output_type": "execute_result"
    }
   ],
   "source": [
    "tweets_df.dropna().head()"
   ]
  },
  {
   "cell_type": "code",
   "execution_count": 416,
   "metadata": {},
   "outputs": [
    {
     "data": {
      "text/html": [
       "<div>\n",
       "<style scoped>\n",
       "    .dataframe tbody tr th:only-of-type {\n",
       "        vertical-align: middle;\n",
       "    }\n",
       "\n",
       "    .dataframe tbody tr th {\n",
       "        vertical-align: top;\n",
       "    }\n",
       "\n",
       "    .dataframe thead th {\n",
       "        text-align: right;\n",
       "    }\n",
       "</style>\n",
       "<table border=\"1\" class=\"dataframe\">\n",
       "  <thead>\n",
       "    <tr style=\"text-align: right;\">\n",
       "      <th></th>\n",
       "      <th>Date Created</th>\n",
       "      <th>Number of Likes</th>\n",
       "      <th>Source of Tweet</th>\n",
       "      <th>Tweet</th>\n",
       "    </tr>\n",
       "  </thead>\n",
       "  <tbody>\n",
       "    <tr>\n",
       "      <th>0</th>\n",
       "      <td>2023-02-27 03:01:37+00:00</td>\n",
       "      <td>41226</td>\n",
       "      <td>Twitter for iPhone</td>\n",
       "      <td>is there any other way to be? https://t.co/P0n...</td>\n",
       "    </tr>\n",
       "    <tr>\n",
       "      <th>1</th>\n",
       "      <td>2023-01-06 23:48:42+00:00</td>\n",
       "      <td>19243</td>\n",
       "      <td>Twitter Web App</td>\n",
       "      <td>I prefer screams of agony. https://t.co/UDwZsk...</td>\n",
       "    </tr>\n",
       "    <tr>\n",
       "      <th>2</th>\n",
       "      <td>2023-01-06 17:00:31+00:00</td>\n",
       "      <td>133634</td>\n",
       "      <td>Twitter Media Studio</td>\n",
       "      <td>More torture is coming. Lucky you. https://t.c...</td>\n",
       "    </tr>\n",
       "    <tr>\n",
       "      <th>3</th>\n",
       "      <td>2023-01-06 03:53:50+00:00</td>\n",
       "      <td>123</td>\n",
       "      <td>Twitter for iPhone</td>\n",
       "      <td>@SMediaProd01 @netflix Indeed</td>\n",
       "    </tr>\n",
       "    <tr>\n",
       "      <th>4</th>\n",
       "      <td>2023-01-03 19:45:48+00:00</td>\n",
       "      <td>16836</td>\n",
       "      <td>Twitter Web App</td>\n",
       "      <td>Your daughters are correct. As the saying goes...</td>\n",
       "    </tr>\n",
       "  </tbody>\n",
       "</table>\n",
       "</div>"
      ],
      "text/plain": [
       "                Date Created  Number of Likes       Source of Tweet  \\\n",
       "0  2023-02-27 03:01:37+00:00            41226    Twitter for iPhone   \n",
       "1  2023-01-06 23:48:42+00:00            19243       Twitter Web App   \n",
       "2  2023-01-06 17:00:31+00:00           133634  Twitter Media Studio   \n",
       "3  2023-01-06 03:53:50+00:00              123    Twitter for iPhone   \n",
       "4  2023-01-03 19:45:48+00:00            16836       Twitter Web App   \n",
       "\n",
       "                                               Tweet  \n",
       "0  is there any other way to be? https://t.co/P0n...  \n",
       "1  I prefer screams of agony. https://t.co/UDwZsk...  \n",
       "2  More torture is coming. Lucky you. https://t.c...  \n",
       "3                      @SMediaProd01 @netflix Indeed  \n",
       "4  Your daughters are correct. As the saying goes...  "
      ]
     },
     "execution_count": 416,
     "metadata": {},
     "output_type": "execute_result"
    }
   ],
   "source": [
    "pd.set_option('display.max_row', None)\n",
    "tweets_df.head()"
   ]
  },
  {
   "cell_type": "code",
   "execution_count": 417,
   "metadata": {
    "scrolled": false
   },
   "outputs": [
    {
     "data": {
      "text/html": [
       "<div>\n",
       "<style scoped>\n",
       "    .dataframe tbody tr th:only-of-type {\n",
       "        vertical-align: middle;\n",
       "    }\n",
       "\n",
       "    .dataframe tbody tr th {\n",
       "        vertical-align: top;\n",
       "    }\n",
       "\n",
       "    .dataframe thead th {\n",
       "        text-align: right;\n",
       "    }\n",
       "</style>\n",
       "<table border=\"1\" class=\"dataframe\">\n",
       "  <thead>\n",
       "    <tr style=\"text-align: right;\">\n",
       "      <th></th>\n",
       "      <th>Date Created</th>\n",
       "      <th>Number of Likes</th>\n",
       "      <th>Source of Tweet</th>\n",
       "      <th>Tweet</th>\n",
       "      <th>Year</th>\n",
       "    </tr>\n",
       "  </thead>\n",
       "  <tbody>\n",
       "    <tr>\n",
       "      <th>0</th>\n",
       "      <td>2023-02-27 03:01:37+00:00</td>\n",
       "      <td>41226</td>\n",
       "      <td>Twitter for iPhone</td>\n",
       "      <td>is there any other way to be? https://t.co/P0n...</td>\n",
       "      <td>2023</td>\n",
       "    </tr>\n",
       "    <tr>\n",
       "      <th>1</th>\n",
       "      <td>2023-01-06 23:48:42+00:00</td>\n",
       "      <td>19243</td>\n",
       "      <td>Twitter Web App</td>\n",
       "      <td>I prefer screams of agony. https://t.co/UDwZsk...</td>\n",
       "      <td>2023</td>\n",
       "    </tr>\n",
       "    <tr>\n",
       "      <th>2</th>\n",
       "      <td>2023-01-06 17:00:31+00:00</td>\n",
       "      <td>133634</td>\n",
       "      <td>Twitter Media Studio</td>\n",
       "      <td>More torture is coming. Lucky you. https://t.c...</td>\n",
       "      <td>2023</td>\n",
       "    </tr>\n",
       "    <tr>\n",
       "      <th>3</th>\n",
       "      <td>2023-01-06 03:53:50+00:00</td>\n",
       "      <td>123</td>\n",
       "      <td>Twitter for iPhone</td>\n",
       "      <td>@SMediaProd01 @netflix Indeed</td>\n",
       "      <td>2023</td>\n",
       "    </tr>\n",
       "    <tr>\n",
       "      <th>4</th>\n",
       "      <td>2023-01-03 19:45:48+00:00</td>\n",
       "      <td>16836</td>\n",
       "      <td>Twitter Web App</td>\n",
       "      <td>Your daughters are correct. As the saying goes...</td>\n",
       "      <td>2023</td>\n",
       "    </tr>\n",
       "  </tbody>\n",
       "</table>\n",
       "</div>"
      ],
      "text/plain": [
       "                Date Created  Number of Likes       Source of Tweet  \\\n",
       "0  2023-02-27 03:01:37+00:00            41226    Twitter for iPhone   \n",
       "1  2023-01-06 23:48:42+00:00            19243       Twitter Web App   \n",
       "2  2023-01-06 17:00:31+00:00           133634  Twitter Media Studio   \n",
       "3  2023-01-06 03:53:50+00:00              123    Twitter for iPhone   \n",
       "4  2023-01-03 19:45:48+00:00            16836       Twitter Web App   \n",
       "\n",
       "                                               Tweet  Year  \n",
       "0  is there any other way to be? https://t.co/P0n...  2023  \n",
       "1  I prefer screams of agony. https://t.co/UDwZsk...  2023  \n",
       "2  More torture is coming. Lucky you. https://t.c...  2023  \n",
       "3                      @SMediaProd01 @netflix Indeed  2023  \n",
       "4  Your daughters are correct. As the saying goes...  2023  "
      ]
     },
     "execution_count": 417,
     "metadata": {},
     "output_type": "execute_result"
    }
   ],
   "source": [
    "tweets_df['Year'] = tweets_df['Date Created'].str.extract(pat = '([0-9]{4})').astype(int)\n",
    "tweets_df.head()"
   ]
  },
  {
   "cell_type": "code",
   "execution_count": 418,
   "metadata": {},
   "outputs": [
    {
     "data": {
      "text/html": [
       "<div>\n",
       "<style scoped>\n",
       "    .dataframe tbody tr th:only-of-type {\n",
       "        vertical-align: middle;\n",
       "    }\n",
       "\n",
       "    .dataframe tbody tr th {\n",
       "        vertical-align: top;\n",
       "    }\n",
       "\n",
       "    .dataframe thead th {\n",
       "        text-align: right;\n",
       "    }\n",
       "</style>\n",
       "<table border=\"1\" class=\"dataframe\">\n",
       "  <thead>\n",
       "    <tr style=\"text-align: right;\">\n",
       "      <th></th>\n",
       "      <th>Date Created</th>\n",
       "      <th>Number of Likes</th>\n",
       "      <th>Source of Tweet</th>\n",
       "      <th>Tweet</th>\n",
       "      <th>Year</th>\n",
       "    </tr>\n",
       "  </thead>\n",
       "  <tbody>\n",
       "    <tr>\n",
       "      <th>0</th>\n",
       "      <td>2023-02-27 03:01:37+00:00</td>\n",
       "      <td>41226</td>\n",
       "      <td>Twitter for iPhone</td>\n",
       "      <td>is there any other way to be? https://t.co/P0n...</td>\n",
       "      <td>2023</td>\n",
       "    </tr>\n",
       "    <tr>\n",
       "      <th>1</th>\n",
       "      <td>2023-01-06 23:48:42+00:00</td>\n",
       "      <td>19243</td>\n",
       "      <td>Twitter Web App</td>\n",
       "      <td>I prefer screams of agony. https://t.co/UDwZsk...</td>\n",
       "      <td>2023</td>\n",
       "    </tr>\n",
       "    <tr>\n",
       "      <th>2</th>\n",
       "      <td>2023-01-06 17:00:31+00:00</td>\n",
       "      <td>133634</td>\n",
       "      <td>Twitter Media Studio</td>\n",
       "      <td>More torture is coming. Lucky you. https://t.c...</td>\n",
       "      <td>2023</td>\n",
       "    </tr>\n",
       "    <tr>\n",
       "      <th>3</th>\n",
       "      <td>2023-01-06 03:53:50+00:00</td>\n",
       "      <td>123</td>\n",
       "      <td>Twitter for iPhone</td>\n",
       "      <td>@SMediaProd01 @netflix Indeed</td>\n",
       "      <td>2023</td>\n",
       "    </tr>\n",
       "    <tr>\n",
       "      <th>4</th>\n",
       "      <td>2023-01-03 19:45:48+00:00</td>\n",
       "      <td>16836</td>\n",
       "      <td>Twitter Web App</td>\n",
       "      <td>Your daughters are correct. As the saying goes...</td>\n",
       "      <td>2023</td>\n",
       "    </tr>\n",
       "  </tbody>\n",
       "</table>\n",
       "</div>"
      ],
      "text/plain": [
       "                Date Created  Number of Likes       Source of Tweet  \\\n",
       "0  2023-02-27 03:01:37+00:00            41226    Twitter for iPhone   \n",
       "1  2023-01-06 23:48:42+00:00            19243       Twitter Web App   \n",
       "2  2023-01-06 17:00:31+00:00           133634  Twitter Media Studio   \n",
       "3  2023-01-06 03:53:50+00:00              123    Twitter for iPhone   \n",
       "4  2023-01-03 19:45:48+00:00            16836       Twitter Web App   \n",
       "\n",
       "                                               Tweet  Year  \n",
       "0  is there any other way to be? https://t.co/P0n...  2023  \n",
       "1  I prefer screams of agony. https://t.co/UDwZsk...  2023  \n",
       "2  More torture is coming. Lucky you. https://t.c...  2023  \n",
       "3                      @SMediaProd01 @netflix Indeed  2023  \n",
       "4  Your daughters are correct. As the saying goes...  2023  "
      ]
     },
     "execution_count": 418,
     "metadata": {},
     "output_type": "execute_result"
    }
   ],
   "source": [
    "new_tweet = tweets_df.drop_duplicates('Tweet', keep='first')\n",
    "new_tweet.head()"
   ]
  },
  {
   "cell_type": "code",
   "execution_count": 419,
   "metadata": {},
   "outputs": [
    {
     "data": {
      "text/plain": [
       "0    is there any other way to be? https://t.co/P0n...\n",
       "1    I prefer screams of agony. https://t.co/UDwZsk...\n",
       "2    More torture is coming. Lucky you. https://t.c...\n",
       "3                        @SMediaProd01 @netflix Indeed\n",
       "4    Your daughters are correct. As the saying goes...\n",
       "Name: Tweet, dtype: object"
      ]
     },
     "execution_count": 419,
     "metadata": {},
     "output_type": "execute_result"
    }
   ],
   "source": [
    "new_tweet.to_csv(r'C:\\Users\\CHISA\\Downloads\\tweets_data.csv', index = False)\n",
    "pd.read_csv(r'C:\\Users\\CHISA\\Downloads\\tweets_data.csv')\n",
    "\n",
    "new_tweet\n",
    "tweets = new_tweet['Tweet']\n",
    "pd.set_option('display.float_format', lambda x: '%.5f' % x)\n",
    " \n",
    "tweets.head()"
   ]
  },
  {
   "cell_type": "code",
   "execution_count": 420,
   "metadata": {},
   "outputs": [],
   "source": [
    "#new_tweet['Tweet'] = new_tweet['Tweet'].astype(str)\n",
    "#tweets['Tweet'] = new_tweet['Tweet'].str.replace('@', '')\n",
    "#tweets"
   ]
  },
  {
   "cell_type": "code",
   "execution_count": 421,
   "metadata": {},
   "outputs": [],
   "source": [
    "import html\n",
    "from nltk.corpus import stopwords\n",
    "from nltk.tokenize import word_tokenize"
   ]
  },
  {
   "cell_type": "code",
   "execution_count": 422,
   "metadata": {},
   "outputs": [],
   "source": [
    "for i in range (len(tweets)):\n",
    "    x = tweets[i].replace(\"\\n\",\" \")\n",
    "    tweets[i] =html.unescape(x)\n",
    "    tweets"
   ]
  },
  {
   "cell_type": "code",
   "execution_count": 423,
   "metadata": {},
   "outputs": [],
   "source": [
    "for i in range (len(tweets)):\n",
    "    tweets[i] = re.sub(r\"(@[A-Za-z0-9]+)|[^\\w\\s]|#|http\\S+\",\" \", tweets[i])\n",
    "    tweets"
   ]
  },
  {
   "cell_type": "code",
   "execution_count": 424,
   "metadata": {},
   "outputs": [
    {
     "data": {
      "text/html": [
       "<div>\n",
       "<style scoped>\n",
       "    .dataframe tbody tr th:only-of-type {\n",
       "        vertical-align: middle;\n",
       "    }\n",
       "\n",
       "    .dataframe tbody tr th {\n",
       "        vertical-align: top;\n",
       "    }\n",
       "\n",
       "    .dataframe thead th {\n",
       "        text-align: right;\n",
       "    }\n",
       "</style>\n",
       "<table border=\"1\" class=\"dataframe\">\n",
       "  <thead>\n",
       "    <tr style=\"text-align: right;\">\n",
       "      <th></th>\n",
       "      <th>Date Created</th>\n",
       "      <th>Number of Likes</th>\n",
       "      <th>Source of Tweet</th>\n",
       "      <th>Tweet</th>\n",
       "      <th>Year</th>\n",
       "    </tr>\n",
       "  </thead>\n",
       "  <tbody>\n",
       "    <tr>\n",
       "      <th>0</th>\n",
       "      <td>2023-02-27 03:01:37+00:00</td>\n",
       "      <td>41226</td>\n",
       "      <td>Twitter for iPhone</td>\n",
       "      <td>is there any other way to be</td>\n",
       "      <td>2023</td>\n",
       "    </tr>\n",
       "    <tr>\n",
       "      <th>1</th>\n",
       "      <td>2023-01-06 23:48:42+00:00</td>\n",
       "      <td>19243</td>\n",
       "      <td>Twitter Web App</td>\n",
       "      <td>I prefer screams of agony</td>\n",
       "      <td>2023</td>\n",
       "    </tr>\n",
       "    <tr>\n",
       "      <th>2</th>\n",
       "      <td>2023-01-06 17:00:31+00:00</td>\n",
       "      <td>133634</td>\n",
       "      <td>Twitter Media Studio</td>\n",
       "      <td>More torture is coming  Lucky you</td>\n",
       "      <td>2023</td>\n",
       "    </tr>\n",
       "    <tr>\n",
       "      <th>3</th>\n",
       "      <td>2023-01-06 03:53:50+00:00</td>\n",
       "      <td>123</td>\n",
       "      <td>Twitter for iPhone</td>\n",
       "      <td>Indeed</td>\n",
       "      <td>2023</td>\n",
       "    </tr>\n",
       "    <tr>\n",
       "      <th>4</th>\n",
       "      <td>2023-01-03 19:45:48+00:00</td>\n",
       "      <td>16836</td>\n",
       "      <td>Twitter Web App</td>\n",
       "      <td>Your daughters are correct  As the saying goes...</td>\n",
       "      <td>2023</td>\n",
       "    </tr>\n",
       "  </tbody>\n",
       "</table>\n",
       "</div>"
      ],
      "text/plain": [
       "                Date Created  Number of Likes       Source of Tweet  \\\n",
       "0  2023-02-27 03:01:37+00:00            41226    Twitter for iPhone   \n",
       "1  2023-01-06 23:48:42+00:00            19243       Twitter Web App   \n",
       "2  2023-01-06 17:00:31+00:00           133634  Twitter Media Studio   \n",
       "3  2023-01-06 03:53:50+00:00              123    Twitter for iPhone   \n",
       "4  2023-01-03 19:45:48+00:00            16836       Twitter Web App   \n",
       "\n",
       "                                               Tweet  Year  \n",
       "0                    is there any other way to be     2023  \n",
       "1                       I prefer screams of agony     2023  \n",
       "2               More torture is coming  Lucky you     2023  \n",
       "3                                             Indeed  2023  \n",
       "4  Your daughters are correct  As the saying goes...  2023  "
      ]
     },
     "execution_count": 424,
     "metadata": {},
     "output_type": "execute_result"
    }
   ],
   "source": [
    "new_tweet['Tweet'].replace(['tweets'])\n",
    "new_tweet.head()"
   ]
  },
  {
   "cell_type": "code",
   "execution_count": 425,
   "metadata": {},
   "outputs": [
    {
     "data": {
      "text/html": [
       "<div>\n",
       "<style scoped>\n",
       "    .dataframe tbody tr th:only-of-type {\n",
       "        vertical-align: middle;\n",
       "    }\n",
       "\n",
       "    .dataframe tbody tr th {\n",
       "        vertical-align: top;\n",
       "    }\n",
       "\n",
       "    .dataframe thead th {\n",
       "        text-align: right;\n",
       "    }\n",
       "</style>\n",
       "<table border=\"1\" class=\"dataframe\">\n",
       "  <thead>\n",
       "    <tr style=\"text-align: right;\">\n",
       "      <th></th>\n",
       "      <th>Date Created</th>\n",
       "      <th>Number of Likes</th>\n",
       "      <th>Source of Tweet</th>\n",
       "      <th>Tweet</th>\n",
       "      <th>Year</th>\n",
       "    </tr>\n",
       "  </thead>\n",
       "  <tbody>\n",
       "    <tr>\n",
       "      <th>0</th>\n",
       "      <td>2023-02-27</td>\n",
       "      <td>41226</td>\n",
       "      <td>Twitter for iPhone</td>\n",
       "      <td>is there any other way to be</td>\n",
       "      <td>2023</td>\n",
       "    </tr>\n",
       "    <tr>\n",
       "      <th>1</th>\n",
       "      <td>2023-01-06</td>\n",
       "      <td>19243</td>\n",
       "      <td>Twitter Web App</td>\n",
       "      <td>I prefer screams of agony</td>\n",
       "      <td>2023</td>\n",
       "    </tr>\n",
       "    <tr>\n",
       "      <th>2</th>\n",
       "      <td>2023-01-06</td>\n",
       "      <td>133634</td>\n",
       "      <td>Twitter Media Studio</td>\n",
       "      <td>More torture is coming  Lucky you</td>\n",
       "      <td>2023</td>\n",
       "    </tr>\n",
       "    <tr>\n",
       "      <th>3</th>\n",
       "      <td>2023-01-06</td>\n",
       "      <td>123</td>\n",
       "      <td>Twitter for iPhone</td>\n",
       "      <td>Indeed</td>\n",
       "      <td>2023</td>\n",
       "    </tr>\n",
       "    <tr>\n",
       "      <th>4</th>\n",
       "      <td>2023-01-03</td>\n",
       "      <td>16836</td>\n",
       "      <td>Twitter Web App</td>\n",
       "      <td>Your daughters are correct  As the saying goes...</td>\n",
       "      <td>2023</td>\n",
       "    </tr>\n",
       "  </tbody>\n",
       "</table>\n",
       "</div>"
      ],
      "text/plain": [
       "  Date Created  Number of Likes       Source of Tweet  \\\n",
       "0   2023-02-27            41226    Twitter for iPhone   \n",
       "1   2023-01-06            19243       Twitter Web App   \n",
       "2   2023-01-06           133634  Twitter Media Studio   \n",
       "3   2023-01-06              123    Twitter for iPhone   \n",
       "4   2023-01-03            16836       Twitter Web App   \n",
       "\n",
       "                                               Tweet  Year  \n",
       "0                    is there any other way to be     2023  \n",
       "1                       I prefer screams of agony     2023  \n",
       "2               More torture is coming  Lucky you     2023  \n",
       "3                                             Indeed  2023  \n",
       "4  Your daughters are correct  As the saying goes...  2023  "
      ]
     },
     "execution_count": 425,
     "metadata": {},
     "output_type": "execute_result"
    }
   ],
   "source": [
    "from datetime import datetime\n",
    "new_tweet['Date Created']=pd.to_datetime(new_tweet['Date Created'])\n",
    "new_tweet['Date Created']=new_tweet['Date Created'].dt.strftime('%Y-%m-%d')\n",
    "new_tweet.head()"
   ]
  },
  {
   "cell_type": "code",
   "execution_count": 426,
   "metadata": {},
   "outputs": [
    {
     "data": {
      "text/html": [
       "<div>\n",
       "<style scoped>\n",
       "    .dataframe tbody tr th:only-of-type {\n",
       "        vertical-align: middle;\n",
       "    }\n",
       "\n",
       "    .dataframe tbody tr th {\n",
       "        vertical-align: top;\n",
       "    }\n",
       "\n",
       "    .dataframe thead th {\n",
       "        text-align: right;\n",
       "    }\n",
       "</style>\n",
       "<table border=\"1\" class=\"dataframe\">\n",
       "  <thead>\n",
       "    <tr style=\"text-align: right;\">\n",
       "      <th></th>\n",
       "      <th>Date Created</th>\n",
       "      <th>Number of Likes</th>\n",
       "      <th>Source of Tweet</th>\n",
       "      <th>Tweet</th>\n",
       "      <th>Year</th>\n",
       "    </tr>\n",
       "  </thead>\n",
       "  <tbody>\n",
       "    <tr>\n",
       "      <th>0</th>\n",
       "      <td>2023-02-27</td>\n",
       "      <td>41226</td>\n",
       "      <td>Twitter for iPhone</td>\n",
       "      <td>is there any other way to be</td>\n",
       "      <td>2023</td>\n",
       "    </tr>\n",
       "    <tr>\n",
       "      <th>1</th>\n",
       "      <td>2023-01-06</td>\n",
       "      <td>19243</td>\n",
       "      <td>Twitter Web App</td>\n",
       "      <td>I prefer screams of agony</td>\n",
       "      <td>2023</td>\n",
       "    </tr>\n",
       "    <tr>\n",
       "      <th>2</th>\n",
       "      <td>2023-01-06</td>\n",
       "      <td>133634</td>\n",
       "      <td>Twitter Media Studio</td>\n",
       "      <td>More torture is coming  Lucky you</td>\n",
       "      <td>2023</td>\n",
       "    </tr>\n",
       "    <tr>\n",
       "      <th>3</th>\n",
       "      <td>2023-01-06</td>\n",
       "      <td>123</td>\n",
       "      <td>Twitter for iPhone</td>\n",
       "      <td>Indeed</td>\n",
       "      <td>2023</td>\n",
       "    </tr>\n",
       "    <tr>\n",
       "      <th>4</th>\n",
       "      <td>2023-01-03</td>\n",
       "      <td>16836</td>\n",
       "      <td>Twitter Web App</td>\n",
       "      <td>Your daughters are correct  As the saying goes...</td>\n",
       "      <td>2023</td>\n",
       "    </tr>\n",
       "  </tbody>\n",
       "</table>\n",
       "</div>"
      ],
      "text/plain": [
       "  Date Created  Number of Likes       Source of Tweet  \\\n",
       "0   2023-02-27            41226    Twitter for iPhone   \n",
       "1   2023-01-06            19243       Twitter Web App   \n",
       "2   2023-01-06           133634  Twitter Media Studio   \n",
       "3   2023-01-06              123    Twitter for iPhone   \n",
       "4   2023-01-03            16836       Twitter Web App   \n",
       "\n",
       "                                               Tweet  Year  \n",
       "0                    is there any other way to be     2023  \n",
       "1                       I prefer screams of agony     2023  \n",
       "2               More torture is coming  Lucky you     2023  \n",
       "3                                             Indeed  2023  \n",
       "4  Your daughters are correct  As the saying goes...  2023  "
      ]
     },
     "execution_count": 426,
     "metadata": {},
     "output_type": "execute_result"
    }
   ],
   "source": [
    "new_tweet.to_csv(r'C:\\Users\\CHISA\\Downloads\\tweets_clean.csv', index = False)\n",
    "\n",
    "new_tweet = pd.read_csv(r'C:\\Users\\CHISA\\Downloads\\tweets_clean.csv')\n",
    "\n",
    "new_tweet.head()"
   ]
  },
  {
   "cell_type": "code",
   "execution_count": 427,
   "metadata": {},
   "outputs": [
    {
     "data": {
      "text/html": [
       "<div>\n",
       "<style scoped>\n",
       "    .dataframe tbody tr th:only-of-type {\n",
       "        vertical-align: middle;\n",
       "    }\n",
       "\n",
       "    .dataframe tbody tr th {\n",
       "        vertical-align: top;\n",
       "    }\n",
       "\n",
       "    .dataframe thead th {\n",
       "        text-align: right;\n",
       "    }\n",
       "</style>\n",
       "<table border=\"1\" class=\"dataframe\">\n",
       "  <thead>\n",
       "    <tr style=\"text-align: right;\">\n",
       "      <th></th>\n",
       "      <th>Date Created</th>\n",
       "      <th>Number of Likes</th>\n",
       "      <th>Source of Tweet</th>\n",
       "      <th>Tweet</th>\n",
       "      <th>Year</th>\n",
       "    </tr>\n",
       "  </thead>\n",
       "  <tbody>\n",
       "    <tr>\n",
       "      <th>0</th>\n",
       "      <td>2023-02-27</td>\n",
       "      <td>41226</td>\n",
       "      <td>Twitter for iPhone</td>\n",
       "      <td>is there any other way to be</td>\n",
       "      <td>2023</td>\n",
       "    </tr>\n",
       "    <tr>\n",
       "      <th>2</th>\n",
       "      <td>2023-01-06</td>\n",
       "      <td>133634</td>\n",
       "      <td>Twitter Media Studio</td>\n",
       "      <td>More torture is coming  Lucky you</td>\n",
       "      <td>2023</td>\n",
       "    </tr>\n",
       "    <tr>\n",
       "      <th>3</th>\n",
       "      <td>2023-01-06</td>\n",
       "      <td>123</td>\n",
       "      <td>Twitter for iPhone</td>\n",
       "      <td>Indeed</td>\n",
       "      <td>2023</td>\n",
       "    </tr>\n",
       "    <tr>\n",
       "      <th>4</th>\n",
       "      <td>2023-01-03</td>\n",
       "      <td>16836</td>\n",
       "      <td>Twitter Web App</td>\n",
       "      <td>Your daughters are correct  As the saying goes...</td>\n",
       "      <td>2023</td>\n",
       "    </tr>\n",
       "    <tr>\n",
       "      <th>1</th>\n",
       "      <td>2023-01-06</td>\n",
       "      <td>19243</td>\n",
       "      <td>Twitter Web App</td>\n",
       "      <td>I prefer screams of agony</td>\n",
       "      <td>2023</td>\n",
       "    </tr>\n",
       "  </tbody>\n",
       "</table>\n",
       "</div>"
      ],
      "text/plain": [
       "  Date Created  Number of Likes       Source of Tweet  \\\n",
       "0   2023-02-27            41226    Twitter for iPhone   \n",
       "2   2023-01-06           133634  Twitter Media Studio   \n",
       "3   2023-01-06              123    Twitter for iPhone   \n",
       "4   2023-01-03            16836       Twitter Web App   \n",
       "1   2023-01-06            19243       Twitter Web App   \n",
       "\n",
       "                                               Tweet  Year  \n",
       "0                    is there any other way to be     2023  \n",
       "2               More torture is coming  Lucky you     2023  \n",
       "3                                             Indeed  2023  \n",
       "4  Your daughters are correct  As the saying goes...  2023  \n",
       "1                       I prefer screams of agony     2023  "
      ]
     },
     "execution_count": 427,
     "metadata": {},
     "output_type": "execute_result"
    }
   ],
   "source": [
    "new_tweet.sort_values(by=['Year'], inplace=True, ascending=False)\n",
    "new_tweet.head()"
   ]
  },
  {
   "cell_type": "code",
   "execution_count": 428,
   "metadata": {},
   "outputs": [],
   "source": [
    "# removing stopwords\n",
    "tweets_to_token = tweets\n",
    "sw = stopwords.words('english')\n",
    "sw.remove('not')"
   ]
  },
  {
   "cell_type": "code",
   "execution_count": 429,
   "metadata": {},
   "outputs": [],
   "source": [
    "#tokenize the tweets\n",
    "pd.options.mode.chained_assignment = None\n",
    "for i in range(len(tweets_to_token)):\n",
    "    tweets_to_token[i] = word_tokenize(tweets_to_token[i])"
   ]
  },
  {
   "cell_type": "code",
   "execution_count": 430,
   "metadata": {},
   "outputs": [],
   "source": [
    "# ending the stopwords\n",
    "for i in range(len(tweets_to_token)):\n",
    "    tweets_to_token[i] = [word for word in tweets_to_token[i] \n",
    "      if not word in sw]\n",
    "    tweets_to_token"
   ]
  },
  {
   "cell_type": "code",
   "execution_count": 431,
   "metadata": {},
   "outputs": [
    {
     "data": {
      "text/html": [
       "<div>\n",
       "<style scoped>\n",
       "    .dataframe tbody tr th:only-of-type {\n",
       "        vertical-align: middle;\n",
       "    }\n",
       "\n",
       "    .dataframe tbody tr th {\n",
       "        vertical-align: top;\n",
       "    }\n",
       "\n",
       "    .dataframe thead th {\n",
       "        text-align: right;\n",
       "    }\n",
       "</style>\n",
       "<table border=\"1\" class=\"dataframe\">\n",
       "  <thead>\n",
       "    <tr style=\"text-align: right;\">\n",
       "      <th></th>\n",
       "      <th>Date Created</th>\n",
       "      <th>Number of Likes</th>\n",
       "      <th>Source of Tweet</th>\n",
       "      <th>Tweet</th>\n",
       "      <th>Year</th>\n",
       "    </tr>\n",
       "  </thead>\n",
       "  <tbody>\n",
       "    <tr>\n",
       "      <th>0</th>\n",
       "      <td>35</td>\n",
       "      <td>41226</td>\n",
       "      <td>3</td>\n",
       "      <td>88</td>\n",
       "      <td>2023</td>\n",
       "    </tr>\n",
       "    <tr>\n",
       "      <th>2</th>\n",
       "      <td>34</td>\n",
       "      <td>133634</td>\n",
       "      <td>1</td>\n",
       "      <td>51</td>\n",
       "      <td>2023</td>\n",
       "    </tr>\n",
       "    <tr>\n",
       "      <th>3</th>\n",
       "      <td>34</td>\n",
       "      <td>123</td>\n",
       "      <td>3</td>\n",
       "      <td>3</td>\n",
       "      <td>2023</td>\n",
       "    </tr>\n",
       "    <tr>\n",
       "      <th>4</th>\n",
       "      <td>33</td>\n",
       "      <td>16836</td>\n",
       "      <td>2</td>\n",
       "      <td>86</td>\n",
       "      <td>2023</td>\n",
       "    </tr>\n",
       "    <tr>\n",
       "      <th>1</th>\n",
       "      <td>34</td>\n",
       "      <td>19243</td>\n",
       "      <td>2</td>\n",
       "      <td>39</td>\n",
       "      <td>2023</td>\n",
       "    </tr>\n",
       "  </tbody>\n",
       "</table>\n",
       "</div>"
      ],
      "text/plain": [
       "   Date Created  Number of Likes  Source of Tweet  Tweet  Year\n",
       "0            35            41226                3     88  2023\n",
       "2            34           133634                1     51  2023\n",
       "3            34              123                3      3  2023\n",
       "4            33            16836                2     86  2023\n",
       "1            34            19243                2     39  2023"
      ]
     },
     "execution_count": 431,
     "metadata": {},
     "output_type": "execute_result"
    }
   ],
   "source": [
    "import seaborn as sns\n",
    "import matplotlib.pyplot as plt\n",
    "new_tweet_numerized = new_tweet\n",
    "for col_name in new_tweet_numerized.columns:\n",
    "    if(new_tweet_numerized[col_name].dtype == 'object'):\n",
    "        new_tweet_numerized[col_name] = new_tweet_numerized[col_name].astype('category')\n",
    "        new_tweet_numerized[col_name] = new_tweet_numerized[col_name].cat.codes\n",
    "new_tweet_numerized.head()"
   ]
  },
  {
   "cell_type": "code",
   "execution_count": 432,
   "metadata": {},
   "outputs": [
    {
     "data": {
      "text/html": [
       "<div>\n",
       "<style scoped>\n",
       "    .dataframe tbody tr th:only-of-type {\n",
       "        vertical-align: middle;\n",
       "    }\n",
       "\n",
       "    .dataframe tbody tr th {\n",
       "        vertical-align: top;\n",
       "    }\n",
       "\n",
       "    .dataframe thead th {\n",
       "        text-align: right;\n",
       "    }\n",
       "</style>\n",
       "<table border=\"1\" class=\"dataframe\">\n",
       "  <thead>\n",
       "    <tr style=\"text-align: right;\">\n",
       "      <th></th>\n",
       "      <th>Date Created</th>\n",
       "      <th>Number of Likes</th>\n",
       "      <th>Source of Tweet</th>\n",
       "      <th>Tweet</th>\n",
       "      <th>Year</th>\n",
       "    </tr>\n",
       "  </thead>\n",
       "  <tbody>\n",
       "    <tr>\n",
       "      <th>Date Created</th>\n",
       "      <td>1.00000</td>\n",
       "      <td>0.32131</td>\n",
       "      <td>-0.11562</td>\n",
       "      <td>-0.09944</td>\n",
       "      <td>0.42875</td>\n",
       "    </tr>\n",
       "    <tr>\n",
       "      <th>Number of Likes</th>\n",
       "      <td>0.32131</td>\n",
       "      <td>1.00000</td>\n",
       "      <td>-0.35000</td>\n",
       "      <td>-0.08883</td>\n",
       "      <td>0.24908</td>\n",
       "    </tr>\n",
       "    <tr>\n",
       "      <th>Source of Tweet</th>\n",
       "      <td>-0.11562</td>\n",
       "      <td>-0.35000</td>\n",
       "      <td>1.00000</td>\n",
       "      <td>0.04661</td>\n",
       "      <td>0.17783</td>\n",
       "    </tr>\n",
       "    <tr>\n",
       "      <th>Tweet</th>\n",
       "      <td>-0.09944</td>\n",
       "      <td>-0.08883</td>\n",
       "      <td>0.04661</td>\n",
       "      <td>1.00000</td>\n",
       "      <td>0.08913</td>\n",
       "    </tr>\n",
       "    <tr>\n",
       "      <th>Year</th>\n",
       "      <td>0.42875</td>\n",
       "      <td>0.24908</td>\n",
       "      <td>0.17783</td>\n",
       "      <td>0.08913</td>\n",
       "      <td>1.00000</td>\n",
       "    </tr>\n",
       "  </tbody>\n",
       "</table>\n",
       "</div>"
      ],
      "text/plain": [
       "                 Date Created  Number of Likes  Source of Tweet    Tweet  \\\n",
       "Date Created          1.00000          0.32131         -0.11562 -0.09944   \n",
       "Number of Likes       0.32131          1.00000         -0.35000 -0.08883   \n",
       "Source of Tweet      -0.11562         -0.35000          1.00000  0.04661   \n",
       "Tweet                -0.09944         -0.08883          0.04661  1.00000   \n",
       "Year                  0.42875          0.24908          0.17783  0.08913   \n",
       "\n",
       "                   Year  \n",
       "Date Created    0.42875  \n",
       "Number of Likes 0.24908  \n",
       "Source of Tweet 0.17783  \n",
       "Tweet           0.08913  \n",
       "Year            1.00000  "
      ]
     },
     "execution_count": 432,
     "metadata": {},
     "output_type": "execute_result"
    }
   ],
   "source": [
    "new_tweet[['Date Created', 'Number of Likes', 'Source of Tweet', 'Tweet', 'Year', ]].dropna().corr()"
   ]
  },
  {
   "cell_type": "code",
   "execution_count": 433,
   "metadata": {},
   "outputs": [
    {
     "data": {
      "image/png": "[encoded data removed]",
      "text/plain": [
       "<Figure size 432x288 with 2 Axes>"
      ]
     },
     "metadata": {
      "needs_background": "light"
     },
     "output_type": "display_data"
    }
   ],
   "source": [
    "correlation_matrix= new_tweet_numerized.corr(method='pearson')\n",
    "sns.heatmap(correlation_matrix, annot=True)\n",
    "#plt.title('Correlation Matix For Movies Features')\n",
    "#plt.xlabel('Movies Features')\n",
    "#plt.ylabel('Movies Features')\n",
    "plt.show()"
   ]
  },
  {
   "cell_type": "code",
   "execution_count": 434,
   "metadata": {},
   "outputs": [
    {
     "data": {
      "image/png": "[encoded data removed]",
      "text/plain": [
       "<Figure size 432x288 with 1 Axes>"
      ]
     },
     "metadata": {
      "needs_background": "light"
     },
     "output_type": "display_data"
    }
   ],
   "source": [
    "plt.scatter(x=new_tweet['Year'], y=new_tweet['Number of Likes'])\n",
    "#plt.title('Budget vs Gross Earnings')\n",
    "#plt.xlabel('Gross Earnings')\n",
    "#plt.ylabel('Movies Budget')\n",
    "plt.show()"
   ]
  },
  {
   "cell_type": "code",
   "execution_count": 435,
   "metadata": {},
   "outputs": [
    {
     "data": {
      "image/png": "[encoded data removed]",
      "text/plain": [
       "<Figure size 432x288 with 1 Axes>"
      ]
     },
     "metadata": {
      "needs_background": "light"
     },
     "output_type": "display_data"
    }
   ],
   "source": [
    "sns.regplot(x='Number of Likes', y='Year', data=new_tweet, scatter_kws={\"color\": \"green\"}, line_kws={\"color\":\"red\"})\n",
    "plt.show()"
   ]
  },
  {
   "cell_type": "code",
   "execution_count": null,
   "metadata": {},
   "outputs": [],
   "source": []
  },
  {
   "cell_type": "code",
   "execution_count": null,
   "metadata": {},
   "outputs": [],
   "source": []
  },
  {
   "cell_type": "code",
   "execution_count": null,
   "metadata": {},
   "outputs": [],
   "source": []
  }
 ],
 "metadata": {
  "kernelspec": {
   "display_name": "Python 3",
   "language": "python",
   "name": "python3"
  },
  "language_info": {
   "codemirror_mode": {
    "name": "ipython",
    "version": 3
   },
   "file_extension": ".py",
   "mimetype": "text/x-python",
   "name": "python",
   "nbconvert_exporter": "python",
   "pygments_lexer": "ipython3",
   "version": "3.7.6"
  }
 },
 "nbformat": 4,
 "nbformat_minor": 4
}
